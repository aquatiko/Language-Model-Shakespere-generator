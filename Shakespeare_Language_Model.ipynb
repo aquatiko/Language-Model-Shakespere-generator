{
 "cells": [
  {
   "cell_type": "code",
   "execution_count": null,
   "metadata": {},
   "outputs": [],
   "source": [
    "!apt-get install -y -qq software-properties-common python-software-properties module-init-tools\n",
    "!add-apt-repository -y ppa:alessandro-strada/ppa 2>&1 > /dev/null\n",
    "!apt-get update -qq 2>&1 > /dev/null\n",
    "!apt-get -y install -qq google-drive-ocamlfuse fuse\n",
    "\n",
    "from google.colab import auth\n",
    "auth.authenticate_user()\n",
    "from oauth2client.client import GoogleCredentials\n",
    "creds = GoogleCredentials.get_application_default()\n",
    "\n",
    "import getpass\n",
    "!google-drive-ocamlfuse -headless -id={creds.client_id} -secret={creds.client_secret} < /dev/null 2>&1 | grep URL\n",
    "vcode = getpass.getpass()\n",
    "!echo {vcode} | google-drive-ocamlfuse -headless -id={creds.client_id} -secret={creds.client_secret}\n",
    "\n",
    "!mkdir gdrive\n",
    "!google-drive-ocamlfuse gdrive\n",
    "!ls gdrive"
   ]
  },
  {
   "cell_type": "code",
   "execution_count": 5,
   "metadata": {
    "colab": {
     "base_uri": "https://localhost:8080/",
     "height": 33
    },
    "colab_type": "code",
    "id": "ezB-SQGribQA",
    "outputId": "2cb3299c-592f-42a9-9231-c77ef6ba2c79"
   },
   "outputs": [
    {
     "name": "stdout",
     "output_type": "stream",
     "text": [
      "/content/gdrive\n"
     ]
    }
   ],
   "source": [
    "cd gdrive"
   ]
  },
  {
   "cell_type": "code",
   "execution_count": 0,
   "metadata": {
    "colab": {},
    "colab_type": "code",
    "id": "G3o7MDrJQ6lU"
   },
   "outputs": [],
   "source": [
    "file= open('poemShakespeare.txt').read()"
   ]
  },
  {
   "cell_type": "code",
   "execution_count": 0,
   "metadata": {
    "colab": {},
    "colab_type": "code",
    "id": "ZEDFlbsWRWjO"
   },
   "outputs": [],
   "source": [
    "raw_text= file.lower()"
   ]
  },
  {
   "cell_type": "code",
   "execution_count": 0,
   "metadata": {
    "colab": {},
    "colab_type": "code",
    "id": "TSp3XxGQRX6p"
   },
   "outputs": [],
   "source": [
    "tok= raw_text.split()"
   ]
  },
  {
   "cell_type": "code",
   "execution_count": 0,
   "metadata": {
    "colab": {},
    "colab_type": "code",
    "id": "_hSLCr09Rzy9"
   },
   "outputs": [],
   "source": [
    "text=\"\"\n",
    "for i in tok:\n",
    "  text+= i+ \" \""
   ]
  },
  {
   "cell_type": "code",
   "execution_count": 0,
   "metadata": {
    "colab": {},
    "colab_type": "code",
    "id": "4M2GJmZpUBV3"
   },
   "outputs": [],
   "source": [
    "chars = sorted(list(set(text)))\n",
    "char_to_int = dict((c, i) for i, c in enumerate(chars))"
   ]
  },
  {
   "cell_type": "code",
   "execution_count": 0,
   "metadata": {
    "colab": {},
    "colab_type": "code",
    "id": "sO0IYDULULZD"
   },
   "outputs": [],
   "source": [
    "seq_length=100\n",
    "vocab= len(chars)"
   ]
  },
  {
   "cell_type": "code",
   "execution_count": 27,
   "metadata": {
    "colab": {
     "base_uri": "https://localhost:8080/",
     "height": 33
    },
    "colab_type": "code",
    "id": "3SLzz0ROUkws",
    "outputId": "682a2e2f-82ee-4624-ed0d-2e7e077c2a5f"
   },
   "outputs": [
    {
     "data": {
      "text/plain": [
       "14544"
      ]
     },
     "execution_count": 27,
     "metadata": {
      "tags": []
     },
     "output_type": "execute_result"
    }
   ],
   "source": [
    "len(text)"
   ]
  },
  {
   "cell_type": "code",
   "execution_count": 0,
   "metadata": {
    "colab": {},
    "colab_type": "code",
    "id": "1ORakrZjUNPB"
   },
   "outputs": [],
   "source": [
    "sequences=[]\n",
    "y=[]\n",
    "for i in range(len(text)):\n",
    "  if i+seq_length>=len(text):\n",
    "    break\n",
    "  sequences.append(text[i:i+seq_length])\n",
    "  y.append(text[i+seq_length])\n",
    "  "
   ]
  },
  {
   "cell_type": "code",
   "execution_count": 29,
   "metadata": {
    "colab": {
     "base_uri": "https://localhost:8080/",
     "height": 33
    },
    "colab_type": "code",
    "id": "21ELSe08VWLA",
    "outputId": "b11e3f46-b5ad-452f-830a-48c52a030998"
   },
   "outputs": [
    {
     "data": {
      "text/plain": [
       "14444"
      ]
     },
     "execution_count": 29,
     "metadata": {
      "tags": []
     },
     "output_type": "execute_result"
    }
   ],
   "source": [
    "len(y)"
   ]
  },
  {
   "cell_type": "code",
   "execution_count": 0,
   "metadata": {
    "colab": {},
    "colab_type": "code",
    "id": "y7ptnlWuVYkn"
   },
   "outputs": [],
   "source": [
    "X=[]\n",
    "for seq in sequences:\n",
    "  tmp=[]\n",
    "  for i in seq:\n",
    "    tmp.append(char_to_int[i])\n",
    "  X.append(tmp)\n",
    "  \n",
    "Y=[]\n",
    "for i in y:\n",
    "  Y.append(char_to_int[i])"
   ]
  },
  {
   "cell_type": "code",
   "execution_count": 0,
   "metadata": {
    "colab": {},
    "colab_type": "code",
    "id": "80YNVVbPVoaN"
   },
   "outputs": [],
   "source": [
    "X[:6]"
   ]
  },
  {
   "cell_type": "code",
   "execution_count": 0,
   "metadata": {
    "colab": {},
    "colab_type": "code",
    "id": "Ll8mLhodWS8Z"
   },
   "outputs": [],
   "source": [
    "from keras.utils import np_utils\n",
    "datax = np_utils.to_categorical(X)\n",
    "datay = np_utils.to_categorical(Y)"
   ]
  },
  {
   "cell_type": "code",
   "execution_count": 33,
   "metadata": {
    "colab": {
     "base_uri": "https://localhost:8080/",
     "height": 33
    },
    "colab_type": "code",
    "id": "Iq3zqTx6W_X5",
    "outputId": "aa6ec2ab-569a-48ef-aaae-4ea60ab98109"
   },
   "outputs": [
    {
     "data": {
      "text/plain": [
       "45"
      ]
     },
     "execution_count": 33,
     "metadata": {
      "tags": []
     },
     "output_type": "execute_result"
    }
   ],
   "source": [
    "len(datax[0][0])"
   ]
  },
  {
   "cell_type": "code",
   "execution_count": 34,
   "metadata": {
    "colab": {
     "base_uri": "https://localhost:8080/",
     "height": 33
    },
    "colab_type": "code",
    "id": "-aZS1qKsXFLP",
    "outputId": "9f1859ca-738b-44ee-c19b-2c52294c850c"
   },
   "outputs": [
    {
     "data": {
      "text/plain": [
       "(14444, 45)"
      ]
     },
     "execution_count": 34,
     "metadata": {
      "tags": []
     },
     "output_type": "execute_result"
    }
   ],
   "source": [
    "datay.shape"
   ]
  },
  {
   "cell_type": "code",
   "execution_count": 35,
   "metadata": {
    "colab": {
     "base_uri": "https://localhost:8080/",
     "height": 33
    },
    "colab_type": "code",
    "id": "Ilhe4fNVXVK7",
    "outputId": "f69a2fbd-ae1e-42fe-b57b-8767cb1e01e5"
   },
   "outputs": [
    {
     "data": {
      "text/plain": [
       "(14444, 100, 45)"
      ]
     },
     "execution_count": 35,
     "metadata": {
      "tags": []
     },
     "output_type": "execute_result"
    }
   ],
   "source": [
    "datax.shape"
   ]
  },
  {
   "cell_type": "code",
   "execution_count": 0,
   "metadata": {
    "colab": {},
    "colab_type": "code",
    "id": "Jl7liupoXjzP"
   },
   "outputs": [],
   "source": [
    "import numpy\n",
    "from keras.models import Sequential\n",
    "from keras.layers import Dense\n",
    "from keras.layers import Dropout\n",
    "from keras.layers import LSTM\n",
    "from keras.callbacks import ModelCheckpoint"
   ]
  },
  {
   "cell_type": "code",
   "execution_count": 0,
   "metadata": {
    "colab": {},
    "colab_type": "code",
    "id": "MRgBBUfkYNWk"
   },
   "outputs": [],
   "source": [
    "model = Sequential()\n",
    "model.add(LSTM(256, input_shape=(datax.shape[1], datax.shape[2]), return_sequences=True))\n",
    "model.add(Dropout(0.2))\n",
    "model.add(LSTM(256))\n",
    "model.add(Dropout(0.2))\n",
    "model.add(Dense(datay.shape[1], activation='softmax'))\n",
    "model.compile(loss='categorical_crossentropy', optimizer='adam')\n",
    "\n",
    "filepath=\"weights.hdf5\"\n",
    "checkpoint = ModelCheckpoint(filepath, monitor='loss', verbose=1, save_best_only=True, mode='min')\n",
    "callbacks_list = [checkpoint]\n",
    "# fit the model\n",
    "model.fit(datax, datay, epochs=50, batch_size=64, callbacks=callbacks_list)"
   ]
  },
  {
   "cell_type": "markdown",
   "metadata": {
    "colab_type": "text",
    "id": "F182-_qEmyxF"
   },
   "source": [
    "seq length of 10 gave 0.8964 model loss error . Seq length of 100 gave 0.09195"
   ]
  },
  {
   "cell_type": "code",
   "execution_count": 47,
   "metadata": {
    "colab": {
     "base_uri": "https://localhost:8080/",
     "height": 33
    },
    "colab_type": "code",
    "id": "EYs6q4yK6tCR",
    "outputId": "53179d61-51ce-44a9-fbcd-1784ca232dea"
   },
   "outputs": [
    {
     "data": {
      "text/plain": [
       "'a lovers complaint begins with a young woman weeping at the edge of a river, into which she throws t'"
      ]
     },
     "execution_count": 47,
     "metadata": {
      "tags": []
     },
     "output_type": "execute_result"
    }
   ],
   "source": [
    "tstr=\"“A Lover’s Complaint” begins with a young woman weeping at the edge of a river, into which she throws torn-up letters, rings, and other tokens of love. An old man nearby approaches her and asks the reason for her sorrow. She responds by telling him of a former lover who pursued, seduced, and finally abandoned her. She recounts in detail the speech her lover gave to her which seduced her. She concludes her story by conceding that she would fall for the young man's false charms again.\"\n",
    "tstr=tstr.lower()\n",
    "tmp=\"\"\n",
    "for i in tstr:\n",
    "  if i in chars:\n",
    "    tmp+=i\n",
    "tstr=tmp\n",
    "tstr= tstr[:seq_length]\n",
    "tstr=tstr.lower()\n",
    "tstr\n"
   ]
  },
  {
   "cell_type": "code",
   "execution_count": 48,
   "metadata": {
    "colab": {
     "base_uri": "https://localhost:8080/",
     "height": 53
    },
    "colab_type": "code",
    "id": "yc60JUnQY-x8",
    "outputId": "d6125412-bee6-4494-f574-66c6a6f57c87"
   },
   "outputs": [
    {
     "name": "stdout",
     "output_type": "stream",
     "text": [
      "a lovers complaint begins with a young woman weeping at the edge of a river, into which she throws that strong-bonded oath that shall prefer and undertake my troth.' 'this said, his watery eyes he did dismount, whose sights till then were levell'd on my face; each cheek a river running from a fount 285 with brinish current downward flow'd apace: o, how the channel to the stream gave grace! who glazed with crystal gate the glowing roses that flame through water which their hue encloses. 'o father, what a hell of witchcraft lies 290 in the small orb of one particular tear! but with the inundation of the eyes what rocky heart to water will not wear? what breast so cold that is not warmed here? o cleft effect! cold modesty, hot wrath, 295 both fire from hence and chill extincture hath. 'for, lo, his passion, but an art of craft, even there mentloved him, was he such a storm as oft 'twixt may and april is to see, when winds breathe sweet, untidy though they be. his rudeness so with his authorized youth did livery falseness in a pride of truth 1f5 for me hand of strow'd, o, all that youth "
     ]
    }
   ],
   "source": [
    "\n",
    "print(tstr,end='')\n",
    "for i in range(1000):\n",
    "  test=[]\n",
    "  for i in tstr:\n",
    "    test.append(char_to_int[i])\n",
    "\n",
    "  test= np_utils.to_categorical(test,num_classes=vocab)\n",
    "  test= test.reshape(1,test.shape[0],test.shape[1])\n",
    "  ans= model.predict(test)\n",
    "  pp=chars[numpy.argmax(ans)]\n",
    "  print(pp,end='')\n",
    "  tstr+=pp\n",
    "  tstr=tstr[1:]\n",
    "  \n",
    "  "
   ]
  }
 ],
 "metadata": {
  "accelerator": "GPU",
  "colab": {
   "collapsed_sections": [],
   "name": "Shakespeare-Language-Model.ipynb",
   "provenance": [],
   "version": "0.3.2"
  },
  "kernelspec": {
   "display_name": "Python 3",
   "language": "python",
   "name": "python3"
  },
  "language_info": {
   "codemirror_mode": {
    "name": "ipython",
    "version": 3
   },
   "file_extension": ".py",
   "mimetype": "text/x-python",
   "name": "python",
   "nbconvert_exporter": "python",
   "pygments_lexer": "ipython3",
   "version": "3.5.5"
  },
  "widgets": {
   "state": {},
   "version": "1.1.2"
  }
 },
 "nbformat": 4,
 "nbformat_minor": 1
}
