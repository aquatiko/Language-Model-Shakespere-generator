{
  "nbformat": 4,
  "nbformat_minor": 0,
  "metadata": {
    "colab": {
      "name": "Shakespeare-Language-Model.ipynb",
      "version": "0.3.2",
      "provenance": [],
      "collapsed_sections": []
    },
    "kernelspec": {
      "name": "python3",
      "display_name": "Python 3"
    },
    "accelerator": "GPU"
  },
  "cells": [
    {
      "metadata": {
        "id": "YKcZaKozYh_l",
        "colab_type": "code",
        "colab": {
          "base_uri": "https://localhost:8080/",
          "height": 3466
        },
        "outputId": "b9e64bd0-3970-4c4c-a702-1e838ce92f95"
      },
      "cell_type": "code",
      "source": [
        "!apt-get install -y -qq software-properties-common python-software-properties module-init-tools\n",
        "!add-apt-repository -y ppa:alessandro-strada/ppa 2>&1 > /dev/null\n",
        "!apt-get update -qq 2>&1 > /dev/null\n",
        "!apt-get -y install -qq google-drive-ocamlfuse fuse\n",
        "\n",
        "from google.colab import auth\n",
        "auth.authenticate_user()\n",
        "from oauth2client.client import GoogleCredentials\n",
        "creds = GoogleCredentials.get_application_default()\n",
        "\n",
        "import getpass\n",
        "!google-drive-ocamlfuse -headless -id={creds.client_id} -secret={creds.client_secret} < /dev/null 2>&1 | grep URL\n",
        "vcode = getpass.getpass()\n",
        "!echo {vcode} | google-drive-ocamlfuse -headless -id={creds.client_id} -secret={creds.client_secret}\n",
        "\n",
        "!mkdir gdrive\n",
        "!google-drive-ocamlfuse gdrive\n",
        "!ls gdrive"
      ],
      "execution_count": 1,
      "outputs": [
        {
          "output_type": "stream",
          "text": [
            "Preconfiguring packages ...\n",
            "Selecting previously unselected package cron.\n",
            "(Reading database ... 18408 files and directories currently installed.)\n",
            "Preparing to unpack .../00-cron_3.0pl1-128ubuntu5_amd64.deb ...\n",
            "Unpacking cron (3.0pl1-128ubuntu5) ...\n",
            "Selecting previously unselected package libapparmor1:amd64.\n",
            "Preparing to unpack .../01-libapparmor1_2.11.0-2ubuntu17.1_amd64.deb ...\n",
            "Unpacking libapparmor1:amd64 (2.11.0-2ubuntu17.1) ...\n",
            "Selecting previously unselected package libdbus-1-3:amd64.\n",
            "Preparing to unpack .../02-libdbus-1-3_1.10.22-1ubuntu1_amd64.deb ...\n",
            "Unpacking libdbus-1-3:amd64 (1.10.22-1ubuntu1) ...\n",
            "Selecting previously unselected package dbus.\n",
            "Preparing to unpack .../03-dbus_1.10.22-1ubuntu1_amd64.deb ...\n",
            "Unpacking dbus (1.10.22-1ubuntu1) ...\n",
            "Selecting previously unselected package dirmngr.\n",
            "Preparing to unpack .../04-dirmngr_2.1.15-1ubuntu8.1_amd64.deb ...\n",
            "Unpacking dirmngr (2.1.15-1ubuntu8.1) ...\n",
            "Selecting previously unselected package distro-info-data.\n",
            "Preparing to unpack .../05-distro-info-data_0.36ubuntu0.2_all.deb ...\n",
            "Unpacking distro-info-data (0.36ubuntu0.2) ...\n",
            "Selecting previously unselected package libkmod2:amd64.\n",
            "Preparing to unpack .../06-libkmod2_24-1ubuntu2_amd64.deb ...\n",
            "Unpacking libkmod2:amd64 (24-1ubuntu2) ...\n",
            "Selecting previously unselected package kmod.\n",
            "Preparing to unpack .../07-kmod_24-1ubuntu2_amd64.deb ...\n",
            "Unpacking kmod (24-1ubuntu2) ...\n",
            "Selecting previously unselected package lsb-release.\n",
            "Preparing to unpack .../08-lsb-release_9.20160110ubuntu5_all.deb ...\n",
            "Unpacking lsb-release (9.20160110ubuntu5) ...\n",
            "Selecting previously unselected package libgirepository-1.0-1:amd64.\n",
            "Preparing to unpack .../09-libgirepository-1.0-1_1.54.1-1_amd64.deb ...\n",
            "Unpacking libgirepository-1.0-1:amd64 (1.54.1-1) ...\n",
            "Selecting previously unselected package gir1.2-glib-2.0:amd64.\n",
            "Preparing to unpack .../10-gir1.2-glib-2.0_1.54.1-1_amd64.deb ...\n",
            "Unpacking gir1.2-glib-2.0:amd64 (1.54.1-1) ...\n",
            "Selecting previously unselected package iso-codes.\n",
            "Preparing to unpack .../11-iso-codes_3.75-1_all.deb ...\n",
            "Unpacking iso-codes (3.75-1) ...\n",
            "Selecting previously unselected package libdbus-glib-1-2:amd64.\n",
            "Preparing to unpack .../12-libdbus-glib-1-2_0.108-2_amd64.deb ...\n",
            "Unpacking libdbus-glib-1-2:amd64 (0.108-2) ...\n",
            "Selecting previously unselected package python-apt-common.\n",
            "Preparing to unpack .../13-python-apt-common_1.4.0~beta3build2_all.deb ...\n",
            "Unpacking python-apt-common (1.4.0~beta3build2) ...\n",
            "Selecting previously unselected package python3-apt.\n",
            "Preparing to unpack .../14-python3-apt_1.4.0~beta3build2_amd64.deb ...\n",
            "Unpacking python3-apt (1.4.0~beta3build2) ...\n",
            "Selecting previously unselected package python3-dbus.\n",
            "Preparing to unpack .../15-python3-dbus_1.2.4-1build3_amd64.deb ...\n",
            "Unpacking python3-dbus (1.2.4-1build3) ...\n",
            "Selecting previously unselected package python3-gi.\n",
            "Preparing to unpack .../16-python3-gi_3.24.1-2build1_amd64.deb ...\n",
            "Unpacking python3-gi (3.24.1-2build1) ...\n",
            "Selecting previously unselected package module-init-tools.\n",
            "Preparing to unpack .../17-module-init-tools_24-1ubuntu2_all.deb ...\n",
            "Unpacking module-init-tools (24-1ubuntu2) ...\n",
            "Selecting previously unselected package python-apt.\n",
            "Preparing to unpack .../18-python-apt_1.4.0~beta3build2_amd64.deb ...\n",
            "Unpacking python-apt (1.4.0~beta3build2) ...\n",
            "Selecting previously unselected package python-pycurl.\n",
            "Preparing to unpack .../19-python-pycurl_7.43.0-2build2_amd64.deb ...\n",
            "Unpacking python-pycurl (7.43.0-2build2) ...\n",
            "Selecting previously unselected package python-software-properties.\n",
            "Preparing to unpack .../20-python-software-properties_0.96.24.17_all.deb ...\n",
            "Unpacking python-software-properties (0.96.24.17) ...\n",
            "Selecting previously unselected package python3-software-properties.\n",
            "Preparing to unpack .../21-python3-software-properties_0.96.24.17_all.deb ...\n",
            "Unpacking python3-software-properties (0.96.24.17) ...\n",
            "Selecting previously unselected package software-properties-common.\n",
            "Preparing to unpack .../22-software-properties-common_0.96.24.17_all.deb ...\n",
            "Unpacking software-properties-common (0.96.24.17) ...\n",
            "Selecting previously unselected package unattended-upgrades.\n",
            "Preparing to unpack .../23-unattended-upgrades_0.98ubuntu1.1_all.deb ...\n",
            "Unpacking unattended-upgrades (0.98ubuntu1.1) ...\n",
            "Setting up python-apt-common (1.4.0~beta3build2) ...\n",
            "Setting up python3-apt (1.4.0~beta3build2) ...\n",
            "Setting up iso-codes (3.75-1) ...\n",
            "Setting up distro-info-data (0.36ubuntu0.2) ...\n",
            "Setting up python-pycurl (7.43.0-2build2) ...\n",
            "Setting up lsb-release (9.20160110ubuntu5) ...\n",
            "Setting up libgirepository-1.0-1:amd64 (1.54.1-1) ...\n",
            "Setting up libkmod2:amd64 (24-1ubuntu2) ...\n",
            "Setting up gir1.2-glib-2.0:amd64 (1.54.1-1) ...\n",
            "Processing triggers for libc-bin (2.26-0ubuntu2.1) ...\n",
            "Setting up libapparmor1:amd64 (2.11.0-2ubuntu17.1) ...\n",
            "Setting up unattended-upgrades (0.98ubuntu1.1) ...\n",
            "\n",
            "Creating config file /etc/apt/apt.conf.d/20auto-upgrades with new version\n",
            "\n",
            "Creating config file /etc/apt/apt.conf.d/50unattended-upgrades with new version\n",
            "invoke-rc.d: could not determine current runlevel\n",
            "invoke-rc.d: policy-rc.d denied execution of start.\n",
            "Setting up dirmngr (2.1.15-1ubuntu8.1) ...\n",
            "Setting up cron (3.0pl1-128ubuntu5) ...\n",
            "Adding group `crontab' (GID 102) ...\n",
            "Done.\n",
            "update-rc.d: warning: start and stop actions are no longer supported; falling back to defaults\n",
            "update-rc.d: warning: stop runlevel arguments (1) do not match cron Default-Stop values (none)\n",
            "invoke-rc.d: could not determine current runlevel\n",
            "invoke-rc.d: policy-rc.d denied execution of start.\n",
            "Setting up libdbus-1-3:amd64 (1.10.22-1ubuntu1) ...\n",
            "Setting up kmod (24-1ubuntu2) ...\n",
            "Setting up libdbus-glib-1-2:amd64 (0.108-2) ...\n",
            "Setting up python3-gi (3.24.1-2build1) ...\n",
            "Setting up module-init-tools (24-1ubuntu2) ...\n",
            "Setting up python3-software-properties (0.96.24.17) ...\n",
            "Setting up dbus (1.10.22-1ubuntu1) ...\n",
            "Setting up python-apt (1.4.0~beta3build2) ...\n",
            "Setting up python3-dbus (1.2.4-1build3) ...\n",
            "Setting up python-software-properties (0.96.24.17) ...\n",
            "Setting up software-properties-common (0.96.24.17) ...\n",
            "Processing triggers for libc-bin (2.26-0ubuntu2.1) ...\n",
            "Processing triggers for dbus (1.10.22-1ubuntu1) ...\n",
            "gpg: keybox '/tmp/tmpjb6_tvvo/pubring.gpg' created\n",
            "gpg: /tmp/tmpjb6_tvvo/trustdb.gpg: trustdb created\n",
            "gpg: key AD5F235DF639B041: public key \"Launchpad PPA for Alessandro Strada\" imported\n",
            "gpg: Total number processed: 1\n",
            "gpg:               imported: 1\n",
            "Warning: apt-key output should not be parsed (stdout is not a terminal)\n",
            "Selecting previously unselected package libfuse2:amd64.\n",
            "(Reading database ... 19816 files and directories currently installed.)\n",
            "Preparing to unpack .../libfuse2_2.9.7-1ubuntu1_amd64.deb ...\n",
            "Unpacking libfuse2:amd64 (2.9.7-1ubuntu1) ...\n",
            "Selecting previously unselected package fuse.\n",
            "Preparing to unpack .../fuse_2.9.7-1ubuntu1_amd64.deb ...\n",
            "Unpacking fuse (2.9.7-1ubuntu1) ...\n",
            "Selecting previously unselected package google-drive-ocamlfuse.\n",
            "Preparing to unpack .../google-drive-ocamlfuse_0.6.21-0ubuntu2_amd64.deb ...\n",
            "Unpacking google-drive-ocamlfuse (0.6.21-0ubuntu2) ...\n",
            "Setting up libfuse2:amd64 (2.9.7-1ubuntu1) ...\n",
            "Processing triggers for libc-bin (2.26-0ubuntu2.1) ...\n",
            "Setting up fuse (2.9.7-1ubuntu1) ...\n",
            "Setting up google-drive-ocamlfuse (0.6.21-0ubuntu2) ...\n",
            "Please, open the following URL in a web browser: https://accounts.google.com/o/oauth2/auth?client_id=32555940559.apps.googleusercontent.com&redirect_uri=urn%3Aietf%3Awg%3Aoauth%3A2.0%3Aoob&scope=https%3A%2F%2Fwww.googleapis.com%2Fauth%2Fdrive&response_type=code&access_type=offline&approval_prompt=force\n",
            "··········\n",
            "Please, open the following URL in a web browser: https://accounts.google.com/o/oauth2/auth?client_id=32555940559.apps.googleusercontent.com&redirect_uri=urn%3Aietf%3Awg%3Aoauth%3A2.0%3Aoob&scope=https%3A%2F%2Fwww.googleapis.com%2Fauth%2Fdrive&response_type=code&access_type=offline&approval_prompt=force\n",
            "Please enter the verification code: Access token retrieved correctly.\n",
            "5_7_18 franns\n",
            "8_7_18\n",
            "AASF - Hackathon.rar\n",
            "Academic Calander Jan- Jun  2018\n",
            "Agra\n",
            "A lit perform.jpg\n",
            "A lit perform.psd\n",
            "All 12th MHT-CET Full Test-1 Result held on 2nd March  2016.xlsx\n",
            "all.zip\n",
            "Android Code Helper\n",
            "arck-shape-weponns.png\n",
            "Aurora.psd\n",
            "#BBSummer Full Body Workout.odt\n",
            "bigstock-Beach-Volleyball-Silhouette-81799844_1.psd\n",
            "clevnote_010318_144024.db\n",
            "concrete_NLP_tutorial-master\n",
            "Copy of book_slater_et_al.pdf\n",
            "Corna.jpg\n",
            "Corna.psd\n",
            "Eumelia.jpg\n",
            "Eumelia.psd\n",
            "hackerearth.ipynb\n",
            "Handbook.pdf\n",
            "How to get started with Drive\n",
            "IE Notes\n",
            "kaggle_songs.txt\n",
            "kaggle_users.txt\n",
            "kalyantogwl\n",
            "Le-arte.jpg\n",
            "MBSD\n",
            "MNIST-digit-recogintion.ipynb\n",
            "MSDChallengeGettingstarted.pdf\n",
            "ms.....docx\n",
            "nana going\n",
            "nana return\n",
            "natural-language-processing\n",
            "natural-language-processing-master\n",
            "Parivesh.jpg\n",
            "Parivesh.psd\n",
            "Pikture.jpg\n",
            "Pikture.psd\n",
            "poemShakespeare.txt\n",
            "PPT-CN\n",
            "rotaract certi.psd\n",
            "SentimentAnalysis\n",
            "SentimentAnalysis-New(93.87%).ipynb\n",
            "Shakespeare-Language-Model.ipynb\n",
            "shape_predictor_68_face_landmarks.dat\n",
            "slide-1 (1).jpg\n",
            "slide-2 (1).jpg\n",
            "slide-3.jpg\n",
            "slide-4.jpg\n",
            "slide-5.jpg\n",
            "slide-6.jpg\n",
            "SongRecc.ipynb\n",
            "s.pdf\n",
            "SQL Final\n",
            "StepUP.jpg\n",
            "StepUP.psd\n",
            "taste_profile_song_to_tracks.txt\n",
            "ticket\n",
            "ticket return\n",
            "udghatan2016 .pdf\n",
            "Untitled0.ipynb\n",
            "Untitled1.ipynb\n",
            "Untitled2.ipynb\n",
            "Untitled folder\n",
            "weights.hdf5\n"
          ],
          "name": "stdout"
        }
      ]
    },
    {
      "metadata": {
        "id": "ezB-SQGribQA",
        "colab_type": "code",
        "colab": {
          "base_uri": "https://localhost:8080/",
          "height": 33
        },
        "outputId": "2cb3299c-592f-42a9-9231-c77ef6ba2c79"
      },
      "cell_type": "code",
      "source": [
        "cd gdrive"
      ],
      "execution_count": 5,
      "outputs": [
        {
          "output_type": "stream",
          "text": [
            "/content/gdrive\n"
          ],
          "name": "stdout"
        }
      ]
    },
    {
      "metadata": {
        "id": "G3o7MDrJQ6lU",
        "colab_type": "code",
        "colab": {}
      },
      "cell_type": "code",
      "source": [
        "file= open('poemShakespeare.txt').read()"
      ],
      "execution_count": 0,
      "outputs": []
    },
    {
      "metadata": {
        "id": "ZEDFlbsWRWjO",
        "colab_type": "code",
        "colab": {}
      },
      "cell_type": "code",
      "source": [
        "raw_text= file.lower()"
      ],
      "execution_count": 0,
      "outputs": []
    },
    {
      "metadata": {
        "id": "TSp3XxGQRX6p",
        "colab_type": "code",
        "colab": {}
      },
      "cell_type": "code",
      "source": [
        "tok= raw_text.split()"
      ],
      "execution_count": 0,
      "outputs": []
    },
    {
      "metadata": {
        "id": "_hSLCr09Rzy9",
        "colab_type": "code",
        "colab": {}
      },
      "cell_type": "code",
      "source": [
        "text=\"\"\n",
        "for i in tok:\n",
        "  text+= i+ \" \""
      ],
      "execution_count": 0,
      "outputs": []
    },
    {
      "metadata": {
        "id": "oiIcD4MPSZgN",
        "colab_type": "code",
        "colab": {
          "base_uri": "https://localhost:8080/",
          "height": 53
        },
        "outputId": "19873d17-3974-45b8-b5ae-49bc5e567cf9"
      },
      "cell_type": "code",
      "source": [
        "text"
      ],
      "execution_count": 10,
      "outputs": [
        {
          "output_type": "execute_result",
          "data": {
            "text/plain": [
              "\"a lover's complaint from off a hill whose concave womb reworded a plaintful story from a sistering vale, my spirits to attend this double voice accorded, and down i laid to list the sad-tuned tale; ere long espied a fickle maid full pale, 5 tearing of papers, breaking rings a-twain, storming her world with sorrow's wind and rain. upon her head a platted hive of straw, which fortified her visage from the sun, whereon the thought might think sometime it saw 10 the carcass of beauty spent and done: time had not scythed all that youth begun, nor youth all quit; but, spite of heaven's fell rage, some beauty peep'd through lattice of sear'd age. oft did she heave her napkin to her eyne, 15 which on it had conceited characters, laundering the silken figures in the brine that season'd woe had pelleted in tears, and often reading what contents it bears; as often shrieking undistinguish'd woe, 20 in clamours of all size, both high and low. sometimes her levell'd eyes their carriage ride, as they did battery to the spheres intend; sometime diverted their poor balls are tied to the orbed earth; sometimes they do extend 25 their view right on; anon their gazes lend to every place at once, and, nowhere fix'd, the mind and sight distractedly commix'd. her hair, nor loose nor tied in formal plat, proclaim'd in her a careless hand of pride 30 for some, untuck'd, descended her sheaved hat, hanging her pale and pined cheek beside; some in her threaden fillet still did bide, and true to bondage would not break from thence, though slackly braided in loose negligence. 35 a thousand favours from a maund she drew of amber, crystal, and of beaded jet, which one by one she in a river threw, upon whose weeping margent she was set; like usury, applying wet to wet, 40 or monarch's hands that let not bounty fall where want cries some, but where excess begs all. of folded schedules had she many a one, which she perused, sigh'd, tore, and gave the flood; crack'd many a ring of posied gold and bone 45 bidding them find their sepulchres in mud; found yet moe letters sadly penn'd in blood, with sleided silk feat and affectedly enswathed, and seal'd to curious secrecy. these often bathed she in her fluxive eyes, 50 and often kiss'd, and often 'gan to tear: cried 'o false blood, thou register of lies, what unapproved witness dost thou bear! ink would have seem'd more black and damned here!' this said, in top of rage the lines she rents, 55 big discontent so breaking their contents. a reverend man that grazed his cattle nigh-- sometime a blusterer, that the ruffle knew of court, of city, and had let go by the swiftest hours, observed as they flew-- 60 towards this afflicted fancy fastly drew, and, privileged by age, desires to know in brief the grounds and motives of her woe. so slides he down upon his grained bat, and comely-distant sits he by her side; 65 when he again desires her, being sat, her grievance with his hearing to divide: if that from him there may be aught applied which may her suffering ecstasy assuage, 'tis promised in the charity of age. 70 'father,' she says, 'though in me you behold the injury of many a blasting hour, let it not tell your judgment i am old; not age, but sorrow, over me hath power: i might as yet have been a spreading flower, 75 fresh to myself, if i had self-applied love to myself and to no love beside. 'but, woe is me! too early i attended a youthful suit--it was to gain my grace-- of one by nature's outwards so commended, 80 that maidens' eyes stuck over all his face: love lack'd a dwelling, and made him her place; and when in his fair parts she did abide, she was new lodged and newly deified. 'his browny locks did hang in crooked curls; 85 and every light occasion of the wind upon his lips their silken parcels hurls. what's sweet to do, to do will aptly find: each eye that saw him did enchant the mind, for on his visage was in little drawn 90 what largeness thinks in paradise was sawn. 'small show of man was yet upon his chin; his phoenix down began but to appear like unshorn velvet on that termless skin whose bare out-bragg'd the web it seem'd to wear: 95 yet show'd his visage by that cost more dear; and nice affections wavering stood in doubt if best were as it was, or best without. 'his qualities were beauteous as his form, for maiden-tongued he was, and thereof free; 100 yet, if men moved him, was he such a storm as oft 'twixt may and april is to see, when winds breathe sweet, untidy though they be. his rudeness so with his authorized youth did livery falseness in a pride of truth. 105 'well could he ride, and often men would say 'that horse his mettle from his rider takes: proud of subjection, noble by the sway, what rounds, what bounds, what course, what stop he makes!' 110 and controversy hence a question takes, whether the horse by him became his deed, or he his manage by the well-doing steed. 'but quickly on this side the verdict went: his real habitude gave life and grace 115 to appertainings and to ornament, accomplish'd in himself, not in his case: all aids, themselves made fairer by their place, came for additions; yet their purposed trim pieced not his grace, but were all graced by him. 120 'so on the tip of his subduing tongue all kinds of arguments and question deep, all replication prompt, and reason strong, for his advantage still did wake and sleep: to make the weeper laugh, the laugher weep, 125 he had the dialect and different skill, catching all passions in his craft of will: 'that he did in the general bosom reign of young, of old; and sexes both enchanted, to dwell with him in thoughts, or to remain 130 in personal duty, following where he haunted: consents bewitch'd, ere he desire, have granted; and dialogued for him what he would say, ask'd their own wills, and made their wills obey. 'many there were that did his picture get, 135 to serve their eyes, and in it put their mind; like fools that in th' imagination set the goodly objects which abroad they find of lands and mansions, theirs in thought assign'd; and labouring in moe pleasures to bestow them 140 than the true gouty landlord which doth owe them: 'so many have, that never touch'd his hand, sweetly supposed them mistress of his heart. my woeful self, that did in freedom stand, and was my own fee-simple, not in part, 145 what with his art in youth, and youth in art, threw my affections in his charmed power, reserved the stalk and gave him all my flower. 'yet did i not, as some my equals did, demand of him, nor being desired yielded; 150 finding myself in honour so forbid, with safest distance i mine honour shielded: experience for me many bulwarks builded of proofs new-bleeding, which remain'd the foil of this false jewel, and his amorous spoil. 155 'but, ah, who ever shunn'd by precedent the destined ill she must herself assay? or forced examples, 'gainst her own content, to put the by-past perils in her way? counsel may stop awhile what will not stay; 160 for when we rage, advice is often seen by blunting us to make our wits more keen. 'nor gives it satisfaction to our blood, that we must curb it upon others' proof; to be forbod the sweets that seem so good, 165 for fear of harms that preach in our behoof. o appetite, from judgment stand aloof! the one a palate hath that needs will taste, though reason weep, and cry, 'it is thy last.' 'for further i could say 'this man's untrue,' 170 and knew the patterns of his foul beguiling; heard where his plants in others' orchards grew, saw how deceits were gilded in his smiling; knew vows were ever brokers to defiling; thought characters and words merely but art, 175 and bastards of his foul adulterate heart. 'and long upon these terms i held my city, till thus he gan besiege me: 'gentle maid, have of my suffering youth some feeling pity, and be not of my holy vows afraid: 180 that's to ye sworn to none was ever said; for feasts of love i have been call'd unto, till now did ne'er invite, nor never woo. 'all my offences that abroad you see are errors of the blood, none of the mind; 185 love made them not: with acture they may be, where neither party is nor true nor kind: they sought their shame that so their shame did find; and so much less of shame in me remains, by how much of me their reproach contains. 190 'among the many that mine eyes have seen, not one whose flame my heart so much as warm'd, or my affection put to the smallest teen, or any of my leisures ever charm'd: harm have i done to them, but ne'er was harm'd; 195 kept hearts in liveries, but mine own was free, and reign'd, commanding in his monarchy. 'look here, what tributes wounded fancies sent me, of paled pearls and rubies red as blood; figuring that they their passions likewise lent me 200 of grief and blushes, aptly understood in bloodless white and the encrimson'd mood; effects of terror and dear modesty, encamp'd in hearts, but fighting outwardly. 'and, lo, behold these talents of their hair, 205 with twisted metal amorously impleach'd, i have received from many a several fair, their kind acceptance weepingly beseech'd, with the annexions of fair gems enrich'd, and deep-brain'd sonnets that did amplify 210 each stone's dear nature, worth, and quality. 'the diamond,--why, 'twas beautiful and hard, whereto his invised properties did tend; the deep-green emerald, in whose fresh regard weak sights their sickly radiance do amend; 215 the heaven-hued sapphire and the opal blend with objects manifold: each several stone, with wit well blazon'd, smiled or made some moan. 'lo, all these trophies of affections hot, of pensived and subdued desires the tender, 220 nature hath charged me that i hoard them not, but yield them up where i myself must render, that is, to you, my origin and ender; for these, of force, must your oblations be, since i their altar, you enpatron me. 225 'o, then, advance of yours that phraseless hand, whose white weighs down the airy scale of praise; take all these similes to your own command, hallow'd with sighs that burning lungs did raise; what me your minister, for you obeys, 230 works under you; and to your audit comes their distract parcels in combined sums. 'lo, this device was sent me from a nun, or sister sanctified, of holiest note; which late her noble suit in court did shun, 235 whose rarest havings made the blossoms dote; for she was sought by spirits of richest coat, but kept cold distance, and did thence remove, to spend her living in eternal love. 'but, o my sweet, what labour is't to leave 240 the thing we have not, mastering what not strives, playing the place which did no form receive, playing patient sports in unconstrained gyves? she that her fame so to herself contrives, the scars of battle 'scapeth by the flight, 245 and makes her absence valiant, not her might. 'o, pardon me, in that my boast is true: the accident which brought me to her eye upon the moment did her force subdue, and now she would the caged cloister fly: 250 religious love put out religion's eye: not to be tempted, would she be immured, and now, to tempt, all liberty procured. 'how mighty then you are, o, hear me tell! the broken bosoms that to me belong 255 have emptied all their fountains in my well, and mine i pour your ocean all among: i strong o'er them, and you o'er me being strong, must for your victory us all congest, as compound love to physic your cold breast. 260 'my parts had power to charm a sacred nun, who, disciplined, ay, dieted in grace, believed her eyes when they to assail begun, all vows and consecrations giving place: o most potential love! vow, bond, nor space, 265 in thee hath neither sting, knot, nor confine, for thou art all, and all things else are thine. 'when thou impressest, what are precepts worth of stale example? when thou wilt inflame, how coldly those impediments stand forth 270 of wealth, of filial fear, law, kindred, fame! love's arms are peace, 'gainst rule, 'gainst sense, 'gainst shame, and sweetens, in the suffering pangs it bears, the aloes of all forces, shocks, and fears. 275 'now all these hearts that do on mine depend, feeling it break, with bleeding groans they pine; and supplicant their sighs to you extend, to leave the battery that you make 'gainst mine, lending soft audience to my sweet design, 280 and credent soul to that strong-bonded oath that shall prefer and undertake my troth.' 'this said, his watery eyes he did dismount, whose sights till then were levell'd on my face; each cheek a river running from a fount 285 with brinish current downward flow'd apace: o, how the channel to the stream gave grace! who glazed with crystal gate the glowing roses that flame through water which their hue encloses. 'o father, what a hell of witchcraft lies 290 in the small orb of one particular tear! but with the inundation of the eyes what rocky heart to water will not wear? what breast so cold that is not warmed here? o cleft effect! cold modesty, hot wrath, 295 both fire from hence and chill extincture hath. 'for, lo, his passion, but an art of craft, even there resolved my reason into tears; there my white stole of chastity i daff'd, shook off my sober guards and civil fears; 300 appear to him, as he to me appears, all melting; though our drops this difference bore, his poison'd me, and mine did him restore. 'in him a plenitude of subtle matter, applied to cautels, all strange forms receives, 305 of burning blushes, or of weeping water, or swooning paleness; and he takes and leaves, in either's aptness, as it best deceives, to blush at speeches rank to weep at woes, or to turn white and swoon at tragic shows. 310 'that not a heart which in his level came could 'scape the hail of his all-hurting aim, showing fair nature is both kind and tame; and, veil'd in them, did win whom he would maim: against the thing he sought he would exclaim; 315 when he most burn'd in heart-wish'd luxury, he preach'd pure maid, and praised cold chastity. 'thus merely with the garment of a grace the naked and concealed fiend he cover'd; that th' unexperient gave the tempter place, 320 which like a cherubin above them hover'd. who, young and simple, would not be so lover'd? ay me! i fell; and yet do question make what i should do again for such a sake. 'o, that infected moisture of his eye, 325 o, that false fire which in his cheek so glow'd, o, that forced thunder from his heart did fly, o, that sad breath his spongy lungs bestow'd, o, all that borrow'd motion seeming owed, would yet again betray the fore-betray'd, 330 and new pervert a reconciled maid!' \""
            ]
          },
          "metadata": {
            "tags": []
          },
          "execution_count": 10
        }
      ]
    },
    {
      "metadata": {
        "id": "4M2GJmZpUBV3",
        "colab_type": "code",
        "colab": {}
      },
      "cell_type": "code",
      "source": [
        "chars = sorted(list(set(text)))\n",
        "char_to_int = dict((c, i) for i, c in enumerate(chars))"
      ],
      "execution_count": 0,
      "outputs": []
    },
    {
      "metadata": {
        "id": "sO0IYDULULZD",
        "colab_type": "code",
        "colab": {}
      },
      "cell_type": "code",
      "source": [
        "seq_length=100\n",
        "vocab= len(chars)"
      ],
      "execution_count": 0,
      "outputs": []
    },
    {
      "metadata": {
        "id": "3SLzz0ROUkws",
        "colab_type": "code",
        "colab": {
          "base_uri": "https://localhost:8080/",
          "height": 33
        },
        "outputId": "682a2e2f-82ee-4624-ed0d-2e7e077c2a5f"
      },
      "cell_type": "code",
      "source": [
        "len(text)"
      ],
      "execution_count": 27,
      "outputs": [
        {
          "output_type": "execute_result",
          "data": {
            "text/plain": [
              "14544"
            ]
          },
          "metadata": {
            "tags": []
          },
          "execution_count": 27
        }
      ]
    },
    {
      "metadata": {
        "id": "1ORakrZjUNPB",
        "colab_type": "code",
        "colab": {}
      },
      "cell_type": "code",
      "source": [
        "sequences=[]\n",
        "y=[]\n",
        "for i in range(len(text)):\n",
        "  if i+seq_length>=len(text):\n",
        "    break\n",
        "  sequences.append(text[i:i+seq_length])\n",
        "  y.append(text[i+seq_length])\n",
        "  "
      ],
      "execution_count": 0,
      "outputs": []
    },
    {
      "metadata": {
        "id": "21ELSe08VWLA",
        "colab_type": "code",
        "colab": {
          "base_uri": "https://localhost:8080/",
          "height": 33
        },
        "outputId": "b11e3f46-b5ad-452f-830a-48c52a030998"
      },
      "cell_type": "code",
      "source": [
        "len(y)"
      ],
      "execution_count": 29,
      "outputs": [
        {
          "output_type": "execute_result",
          "data": {
            "text/plain": [
              "14444"
            ]
          },
          "metadata": {
            "tags": []
          },
          "execution_count": 29
        }
      ]
    },
    {
      "metadata": {
        "id": "y7ptnlWuVYkn",
        "colab_type": "code",
        "colab": {}
      },
      "cell_type": "code",
      "source": [
        "X=[]\n",
        "for seq in sequences:\n",
        "  tmp=[]\n",
        "  for i in seq:\n",
        "    tmp.append(char_to_int[i])\n",
        "  X.append(tmp)\n",
        "  \n",
        "Y=[]\n",
        "for i in y:\n",
        "  Y.append(char_to_int[i])"
      ],
      "execution_count": 0,
      "outputs": []
    },
    {
      "metadata": {
        "id": "80YNVVbPVoaN",
        "colab_type": "code",
        "colab": {}
      },
      "cell_type": "code",
      "source": [
        "X[:6]"
      ],
      "execution_count": 0,
      "outputs": []
    },
    {
      "metadata": {
        "id": "Ll8mLhodWS8Z",
        "colab_type": "code",
        "colab": {}
      },
      "cell_type": "code",
      "source": [
        "from keras.utils import np_utils\n",
        "datax = np_utils.to_categorical(X)\n",
        "datay = np_utils.to_categorical(Y)"
      ],
      "execution_count": 0,
      "outputs": []
    },
    {
      "metadata": {
        "id": "Iq3zqTx6W_X5",
        "colab_type": "code",
        "colab": {
          "base_uri": "https://localhost:8080/",
          "height": 33
        },
        "outputId": "aa6ec2ab-569a-48ef-aaae-4ea60ab98109"
      },
      "cell_type": "code",
      "source": [
        "len(datax[0][0])"
      ],
      "execution_count": 33,
      "outputs": [
        {
          "output_type": "execute_result",
          "data": {
            "text/plain": [
              "45"
            ]
          },
          "metadata": {
            "tags": []
          },
          "execution_count": 33
        }
      ]
    },
    {
      "metadata": {
        "id": "-aZS1qKsXFLP",
        "colab_type": "code",
        "colab": {
          "base_uri": "https://localhost:8080/",
          "height": 33
        },
        "outputId": "9f1859ca-738b-44ee-c19b-2c52294c850c"
      },
      "cell_type": "code",
      "source": [
        "datay.shape"
      ],
      "execution_count": 34,
      "outputs": [
        {
          "output_type": "execute_result",
          "data": {
            "text/plain": [
              "(14444, 45)"
            ]
          },
          "metadata": {
            "tags": []
          },
          "execution_count": 34
        }
      ]
    },
    {
      "metadata": {
        "id": "Ilhe4fNVXVK7",
        "colab_type": "code",
        "colab": {
          "base_uri": "https://localhost:8080/",
          "height": 33
        },
        "outputId": "f69a2fbd-ae1e-42fe-b57b-8767cb1e01e5"
      },
      "cell_type": "code",
      "source": [
        "datax.shape"
      ],
      "execution_count": 35,
      "outputs": [
        {
          "output_type": "execute_result",
          "data": {
            "text/plain": [
              "(14444, 100, 45)"
            ]
          },
          "metadata": {
            "tags": []
          },
          "execution_count": 35
        }
      ]
    },
    {
      "metadata": {
        "id": "Jl7liupoXjzP",
        "colab_type": "code",
        "colab": {}
      },
      "cell_type": "code",
      "source": [
        "import numpy\n",
        "from keras.models import Sequential\n",
        "from keras.layers import Dense\n",
        "from keras.layers import Dropout\n",
        "from keras.layers import LSTM\n",
        "from keras.callbacks import ModelCheckpoint"
      ],
      "execution_count": 0,
      "outputs": []
    },
    {
      "metadata": {
        "id": "MRgBBUfkYNWk",
        "colab_type": "code",
        "colab": {}
      },
      "cell_type": "code",
      "source": [
        "model = Sequential()\n",
        "model.add(LSTM(256, input_shape=(datax.shape[1], datax.shape[2]), return_sequences=True))\n",
        "model.add(Dropout(0.2))\n",
        "model.add(LSTM(256))\n",
        "model.add(Dropout(0.2))\n",
        "model.add(Dense(datay.shape[1], activation='softmax'))\n",
        "model.compile(loss='categorical_crossentropy', optimizer='adam')\n",
        "\n",
        "filepath=\"weights.hdf5\"\n",
        "checkpoint = ModelCheckpoint(filepath, monitor='loss', verbose=1, save_best_only=True, mode='min')\n",
        "callbacks_list = [checkpoint]\n",
        "# fit the model\n",
        "model.fit(datax, datay, epochs=50, batch_size=64, callbacks=callbacks_list)"
      ],
      "execution_count": 0,
      "outputs": []
    },
    {
      "metadata": {
        "id": "F182-_qEmyxF",
        "colab_type": "text"
      },
      "cell_type": "markdown",
      "source": [
        "seq length of 10 gave 0.8964 model loss error . Seq length of 100 gave 0.09195"
      ]
    },
    {
      "metadata": {
        "id": "EYs6q4yK6tCR",
        "colab_type": "code",
        "colab": {
          "base_uri": "https://localhost:8080/",
          "height": 33
        },
        "outputId": "53179d61-51ce-44a9-fbcd-1784ca232dea"
      },
      "cell_type": "code",
      "source": [
        "tstr=\"“A Lover’s Complaint” begins with a young woman weeping at the edge of a river, into which she throws torn-up letters, rings, and other tokens of love. An old man nearby approaches her and asks the reason for her sorrow. She responds by telling him of a former lover who pursued, seduced, and finally abandoned her. She recounts in detail the speech her lover gave to her which seduced her. She concludes her story by conceding that she would fall for the young man's false charms again.\"\n",
        "tstr=tstr.lower()\n",
        "tmp=\"\"\n",
        "for i in tstr:\n",
        "  if i in chars:\n",
        "    tmp+=i\n",
        "tstr=tmp\n",
        "tstr= tstr[:seq_length]\n",
        "tstr=tstr.lower()\n",
        "tstr\n"
      ],
      "execution_count": 47,
      "outputs": [
        {
          "output_type": "execute_result",
          "data": {
            "text/plain": [
              "'a lovers complaint begins with a young woman weeping at the edge of a river, into which she throws t'"
            ]
          },
          "metadata": {
            "tags": []
          },
          "execution_count": 47
        }
      ]
    },
    {
      "metadata": {
        "id": "yc60JUnQY-x8",
        "colab_type": "code",
        "colab": {
          "base_uri": "https://localhost:8080/",
          "height": 53
        },
        "outputId": "d6125412-bee6-4494-f574-66c6a6f57c87"
      },
      "cell_type": "code",
      "source": [
        "\n",
        "print(tstr,end='')\n",
        "for i in range(1000):\n",
        "  test=[]\n",
        "  for i in tstr:\n",
        "    test.append(char_to_int[i])\n",
        "\n",
        "  test= np_utils.to_categorical(test,num_classes=vocab)\n",
        "  test= test.reshape(1,test.shape[0],test.shape[1])\n",
        "  ans= model.predict(test)\n",
        "  pp=chars[numpy.argmax(ans)]\n",
        "  print(pp,end='')\n",
        "  tstr+=pp\n",
        "  tstr=tstr[1:]\n",
        "  \n",
        "  "
      ],
      "execution_count": 48,
      "outputs": [
        {
          "output_type": "stream",
          "text": [
            "a lovers complaint begins with a young woman weeping at the edge of a river, into which she throws that strong-bonded oath that shall prefer and undertake my troth.' 'this said, his watery eyes he did dismount, whose sights till then were levell'd on my face; each cheek a river running from a fount 285 with brinish current downward flow'd apace: o, how the channel to the stream gave grace! who glazed with crystal gate the glowing roses that flame through water which their hue encloses. 'o father, what a hell of witchcraft lies 290 in the small orb of one particular tear! but with the inundation of the eyes what rocky heart to water will not wear? what breast so cold that is not warmed here? o cleft effect! cold modesty, hot wrath, 295 both fire from hence and chill extincture hath. 'for, lo, his passion, but an art of craft, even there mentloved him, was he such a storm as oft 'twixt may and april is to see, when winds breathe sweet, untidy though they be. his rudeness so with his authorized youth did livery falseness in a pride of truth 1f5 for me hand of strow'd, o, all that youth "
          ],
          "name": "stdout"
        }
      ]
    }
  ]
}